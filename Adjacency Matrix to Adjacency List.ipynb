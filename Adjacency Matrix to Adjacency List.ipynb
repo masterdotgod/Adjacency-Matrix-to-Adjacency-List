{
 "cells": [
  {
   "cell_type": "code",
   "execution_count": 3,
   "id": "4e693071",
   "metadata": {},
   "outputs": [
    {
     "name": "stdout",
     "output_type": "stream",
     "text": [
      "Adjacency List:\n",
      "0 -> 1 -> 3\n",
      "1 -> 2\n",
      "2 -> 0\n",
      "3 -> 4\n",
      "4 -> 3\n"
     ]
    }
   ],
   "source": [
    "from collections import defaultdict\n",
    "def mat_to_list(adj_mat):\n",
    "    adjList = defaultdict(list)\n",
    "    for i in range(len(adj_mat)):\n",
    "        for j in range(len(adj_mat[i])):\n",
    "            if adj_mat[i][j] != 0:\n",
    "                adjList[i].append(j)\n",
    "    return adjList\n",
    "\n",
    "# the adjacency matrix\n",
    "adj_mat = [[0, 1, 0, 1, 0, 0], [0, 0, 1, 0, 0, 0], [1, 0, 0, 0, 0, 0], [0, 0, 0, 0, 1, 0], [0, 0, 0, 1, 0, 0], [0, 0, 0, 0, 0, 0]]\n",
    "AdjList = mat_to_list(adj_mat)\n",
    "\n",
    "#print the adjecency list\n",
    "print(\"Adjacency List:\")\n",
    "for i in AdjList:\n",
    "    print(i, end =\"\")\n",
    "    for j in AdjList[i]:\n",
    "        print(\" -> {}\".format(j), end =\"\")\n",
    "    print()"
   ]
  },
  {
   "cell_type": "code",
   "execution_count": 7,
   "id": "c0053cbc",
   "metadata": {},
   "outputs": [
    {
     "name": "stdout",
     "output_type": "stream",
     "text": [
      "Vertex 0: -> 3 -> 2 -> 1 \n",
      "\n",
      "Vertex 1: -> 2 -> 0 \n",
      "\n",
      "Vertex 2: -> 1 -> 0 \n",
      "\n",
      "Vertex 3: -> 4 -> 4 -> 0 \n",
      "\n",
      "Vertex 4: -> 3 -> 3 \n",
      "\n",
      "Vertex 5: \n",
      "\n"
     ]
    }
   ],
   "source": [
    "class AdjNode:\n",
    "    def __init__(self, value):\n",
    "        self.vertex = value\n",
    "        self.next = None\n",
    "            \n",
    "class Graph:\n",
    "    def __init__(self, num):\n",
    "        self.V = num\n",
    "        self.graph = [None] * self.V\n",
    "            \n",
    "    def add_edge(self, s, d):\n",
    "        node = AdjNode(d)\n",
    "        node.next = self.graph[s]\n",
    "        self.graph[s] = node\n",
    "        \n",
    "        node = AdjNode(s)\n",
    "        node.next = self.graph[d]\n",
    "        self.graph[d] = node\n",
    "        \n",
    "    def print_agraph(self):\n",
    "        for i in range(self.V):\n",
    "            print(\"Vertex \" + str(i) + \":\", end=\"\")\n",
    "            temp = self.graph[i]\n",
    "            while temp:\n",
    "                print(\" -> {}\".format(temp.vertex), end=\"\")\n",
    "                temp = temp.next\n",
    "            print(\" \\n\")\n",
    "\n",
    "\n",
    "if __name__ == \"__main__\":\n",
    "    V = 6\n",
    "\n",
    "    # Create graph and edges\n",
    "    graph = Graph(V)\n",
    "    graph.add_edge(0, 1)\n",
    "    graph.add_edge(0, 2)\n",
    "    graph.add_edge(0, 3)\n",
    "    graph.add_edge(1, 2)\n",
    "    graph.add_edge(3, 4)\n",
    "    graph.add_edge(4, 3)\n",
    "\n",
    "    graph.print_agraph()"
   ]
  },
  {
   "cell_type": "code",
   "execution_count": null,
   "id": "9c6b6b88",
   "metadata": {},
   "outputs": [],
   "source": []
  }
 ],
 "metadata": {
  "kernelspec": {
   "display_name": "Python 3 (ipykernel)",
   "language": "python",
   "name": "python3"
  },
  "language_info": {
   "codemirror_mode": {
    "name": "ipython",
    "version": 3
   },
   "file_extension": ".py",
   "mimetype": "text/x-python",
   "name": "python",
   "nbconvert_exporter": "python",
   "pygments_lexer": "ipython3",
   "version": "3.10.9"
  }
 },
 "nbformat": 4,
 "nbformat_minor": 5
}
